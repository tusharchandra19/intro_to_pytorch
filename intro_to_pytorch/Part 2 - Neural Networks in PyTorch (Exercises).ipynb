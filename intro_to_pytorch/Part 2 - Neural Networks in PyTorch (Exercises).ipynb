{
 "cells": [
  {
   "cell_type": "markdown",
   "metadata": {},
   "source": [
    "# Neural networks with PyTorch\n",
    "\n",
    "Deep learning networks tend to be massive with dozens or hundreds of layers, that's where the term \"deep\" comes from. You can build one of these deep networks using only weight matrices as we did in the previous notebook, but in general it's very cumbersome and difficult to implement. PyTorch has a nice module `nn` that provides a nice way to efficiently build large neural networks."
   ]
  },
  {
   "cell_type": "code",
   "execution_count": 4,
   "metadata": {},
   "outputs": [],
   "source": [
    "# Import necessary packages\n",
    "\n",
    "%matplotlib inline\n",
    "%config InlineBackend.figure_format = 'retina'\n",
    "\n",
    "import numpy as np\n",
    "import torch\n",
    "\n",
    "import helper\n",
    "\n",
    "import matplotlib.pyplot as plt"
   ]
  },
  {
   "cell_type": "markdown",
   "metadata": {},
   "source": [
    "\n",
    "Now we're going to build a larger network that can solve a (formerly) difficult problem, identifying text in an image. Here we'll use the MNIST dataset which consists of greyscale handwritten digits. Each image is 28x28 pixels, you can see a sample below\n",
    "\n",
    "<img src='assets/mnist.png'>\n",
    "\n",
    "Our goal is to build a neural network that can take one of these images and predict the digit in the image.\n",
    "\n",
    "First up, we need to get our dataset. This is provided through the `torchvision` package. The code below will download the MNIST dataset, then create training and test datasets for us. Don't worry too much about the details here, you'll learn more about this later."
   ]
  },
  {
   "cell_type": "code",
   "execution_count": 5,
   "metadata": {},
   "outputs": [],
   "source": [
    "### Run this cell\n",
    "\n",
    "from torchvision import datasets, transforms\n",
    "\n",
    "# Define a transform to normalize the data\n",
    "transform = transforms.Compose([transforms.ToTensor(),\n",
    "                              transforms.Normalize((0.5,), (0.5,)),\n",
    "                              ])\n",
    "\n",
    "# Download and load the training data\n",
    "trainset = datasets.MNIST('~/.pytorch/MNIST_data/', download=True, train=True, transform=transform)\n",
    "trainloader = torch.utils.data.DataLoader(trainset, batch_size=64, shuffle=True)"
   ]
  },
  {
   "cell_type": "markdown",
   "metadata": {},
   "source": [
    "We have the training data loaded into `trainloader` and we make that an iterator with `iter(trainloader)`. Later, we'll use this to loop through the dataset for training, like\n",
    "\n",
    "```python\n",
    "for image, label in trainloader:\n",
    "    ## do things with images and labels\n",
    "```\n",
    "\n",
    "You'll notice I created the `trainloader` with a batch size of 64, and `shuffle=True`. The batch size is the number of images we get in one iteration from the data loader and pass through our network, often called a *batch*. And `shuffle=True` tells it to shuffle the dataset every time we start going through the data loader again. But here I'm just grabbing the first batch so we can check out the data. We can see below that `images` is just a tensor with size `(64, 1, 28, 28)`. So, 64 images per batch, 1 color channel, and 28x28 images."
   ]
  },
  {
   "cell_type": "code",
   "execution_count": 19,
   "metadata": {},
   "outputs": [
    {
     "name": "stdout",
     "output_type": "stream",
     "text": [
      "<class 'torch.Tensor'>\n",
      "torch.Size([64, 1, 28, 28])\n",
      "torch.Size([64])\n"
     ]
    }
   ],
   "source": [
    "dataiter = iter(trainloader)\n",
    "images, labels = dataiter.next()\n",
    "print(type(images))\n",
    "print(images.shape)\n",
    "print(labels.shape)"
   ]
  },
  {
   "cell_type": "markdown",
   "metadata": {},
   "source": [
    "This is what one of the images looks like. "
   ]
  },
  {
   "cell_type": "code",
   "execution_count": 20,
   "metadata": {},
   "outputs": [
    {
     "data": {
      "image/png": "[encoded data removed]",
      "text/plain": [
       "<Figure size 432x288 with 1 Axes>"
      ]
     },
     "metadata": {
      "image/png": {
       "height": 250,
       "width": 253
      },
      "needs_background": "light"
     },
     "output_type": "display_data"
    }
   ],
   "source": [
    "plt.imshow(images[1].numpy().squeeze(), cmap='Greys_r');"
   ]
  },
  {
   "cell_type": "markdown",
   "metadata": {},
   "source": [
    "First, let's try to build a simple network for this dataset using weight matrices and matrix multiplications. Then, we'll see how to do it using PyTorch's `nn` module which provides a much more convenient and powerful method for defining network architectures.\n",
    "\n",
    "The networks you've seen so far are called *fully-connected* or *dense* networks. Each unit in one layer is connected to each unit in the next layer. In fully-connected networks, the input to each layer must be a one-dimensional vector (which can be stacked into a 2D tensor as a batch of multiple examples). However, our images are 28x28 2D tensors, so we need to convert them into 1D vectors. Thinking about sizes, we need to convert the batch of images with shape `(64, 1, 28, 28)` to a have a shape of `(64, 784)`, 784 is 28 times 28. This is typically called *flattening*, we flattened the 2D images into 1D vectors.\n",
    "\n",
    "Previously you built a network with one output unit. Here we need 10 output units, one for each digit. We want our network to predict the digit shown in an image, so what we'll do is calculate probabilities that the image is of any one digit or class. This ends up being a discrete probability distribution over the classes (digits) that tells us the most likely class for the image. That means we need 10 output units for the 10 classes (digits). We'll see how to convert the network output into a probability distribution next.\n",
    "\n",
    "> **Exercise:** Flatten the batch of images `images`. Then build a multi-layer network with 784 input units, 256 hidden units, and 10 output units using random tensors for the weights and biases. For now, use a sigmoid activation for the hidden layer. Leave the output layer without an activation, we'll add one that gives us a probability distribution next."
   ]
  },
  {
   "cell_type": "code",
   "execution_count": 21,
   "metadata": {},
   "outputs": [],
   "source": [
    "def activation(x):\n",
    "    \"\"\" Sigmoid activation function \n",
    "    \n",
    "        Arguments\n",
    "        ---------\n",
    "        x: torch.Tensor\n",
    "    \"\"\"\n",
    "    return 1/(1+torch.exp(-x))"
   ]
  },
  {
   "cell_type": "code",
   "execution_count": 22,
   "metadata": {},
   "outputs": [
    {
     "name": "stdout",
     "output_type": "stream",
     "text": [
      "torch.Size([64, 784])\n"
     ]
    },
    {
     "data": {
      "text/plain": [
       "torch.Size([64, 10])"
      ]
     },
     "execution_count": 22,
     "metadata": {},
     "output_type": "execute_result"
    }
   ],
   "source": [
    "## Your solution\n",
    "import random\n",
    "images = images.reshape(64,784)\n",
    "weights1 = torch.randn((784,256))\n",
    "weights3 = torch.randn((256,10))\n",
    "bias1 = torch.randn(256)\n",
    "bias2 = torch.randn(10)\n",
    "print(images.shape)\n",
    "hidden1 = activation((torch.mm(images,weights1)+bias1))\n",
    "out = (torch.mm(hidden1,weights3)+bias2)\n",
    "out.shape\n"
   ]
  },
  {
   "cell_type": "markdown",
   "metadata": {},
   "source": [
    "Now we have 10 outputs for our network. We want to pass in an image to our network and get out a probability distribution over the classes that tells us the likely class(es) the image belongs to. Something that looks like this:\n",
    "<img src='assets/image_distribution.png' width=500px>\n",
    "\n",
    "Here we see that the probability for each class is roughly the same. This is representing an untrained network, it hasn't seen any data yet so it just returns a uniform distribution with equal probabilities for each class.\n",
    "\n",
    "To calculate this probability distribution, we often use the [**softmax** function](https://en.wikipedia.org/wiki/Softmax_function). Mathematically this looks like\n",
    "\n",
    "$$\n",
    "\\Large \\sigma(x_i) = \\cfrac{e^{x_i}}{\\sum_k^K{e^{x_k}}}\n",
    "$$\n",
    "\n",
    "What this does is squish each input $x_i$ between 0 and 1 and normalizes the values to give you a proper probability distribution where the probabilites sum up to one.\n",
    "\n",
    "> **Exercise:** Implement a function `softmax` that performs the softmax calculation and returns probability distributions for each example in the batch. Note that you'll need to pay attention to the shapes when doing this. If you have a tensor `a` with shape `(64, 10)` and a tensor `b` with shape `(64,)`, doing `a/b` will give you an error because PyTorch will try to do the division across the columns (called broadcasting) but you'll get a size mismatch. The way to think about this is for each of the 64 examples, you only want to divide by one value, the sum in the denominator. So you need `b` to have a shape of `(64, 1)`. This way PyTorch will divide the 10 values in each row of `a` by the one value in each row of `b`. Pay attention to how you take the sum as well. You'll need to define the `dim` keyword in `torch.sum`. Setting `dim=0` takes the sum across the rows while `dim=1` takes the sum across the columns."
   ]
  },
  {
   "cell_type": "code",
   "execution_count": 23,
   "metadata": {},
   "outputs": [
    {
     "name": "stdout",
     "output_type": "stream",
     "text": [
      "torch.Size([64, 10])\n",
      "tensor([[2.3335e-03, 3.4029e-12, 7.5693e-13, 3.9191e-12, 4.1858e-02, 1.8654e-04,\n",
      "         1.2409e-05, 2.0590e-12, 9.5561e-01, 2.1000e-14],\n",
      "        [9.6077e-06, 2.1856e-12, 1.4835e-13, 2.9169e-14, 8.7698e-05, 4.0851e-08,\n",
      "         5.9748e-08, 6.8565e-18, 9.9990e-01, 1.7779e-15],\n",
      "        [2.8935e-06, 1.7569e-13, 1.5754e-16, 7.1083e-19, 2.8581e-05, 3.1447e-06,\n",
      "         1.1114e-13, 1.7058e-15, 9.9997e-01, 1.4065e-13],\n",
      "        [1.1280e-03, 1.4099e-11, 3.5912e-13, 9.7459e-15, 1.1280e-01, 8.3880e-01,\n",
      "         1.5854e-07, 1.4492e-14, 4.7272e-02, 3.1164e-12],\n",
      "        [2.2918e-08, 6.4167e-10, 6.2362e-12, 1.3268e-17, 1.3155e-04, 6.1344e-07,\n",
      "         7.2926e-10, 3.7612e-12, 9.9987e-01, 1.0252e-11],\n",
      "        [7.2908e-05, 3.7707e-09, 6.9296e-09, 1.9082e-13, 4.9453e-02, 5.0630e-01,\n",
      "         4.3178e-05, 9.8362e-11, 4.4413e-01, 2.0336e-10],\n",
      "        [2.9844e-03, 2.5840e-12, 1.3313e-09, 1.9291e-12, 8.1442e-01, 6.8424e-05,\n",
      "         5.7827e-04, 5.0365e-11, 1.8195e-01, 2.9182e-08],\n",
      "        [1.9931e-04, 3.1641e-13, 1.6815e-15, 3.0408e-17, 9.9966e-01, 1.3644e-04,\n",
      "         1.4489e-06, 2.2669e-14, 6.8377e-06, 4.5012e-17],\n",
      "        [1.1081e-07, 3.6663e-13, 1.3182e-13, 1.3364e-15, 2.0028e-01, 5.6768e-03,\n",
      "         1.0991e-07, 7.9071e-15, 7.9404e-01, 6.9694e-13],\n",
      "        [6.3080e-06, 3.4438e-13, 1.5745e-11, 1.1466e-13, 1.8239e-03, 7.7665e-05,\n",
      "         7.3364e-10, 3.7165e-08, 9.9809e-01, 2.2939e-06],\n",
      "        [2.4466e-02, 1.6031e-15, 1.4538e-15, 1.7616e-15, 9.7418e-01, 3.4420e-05,\n",
      "         5.5416e-05, 6.3812e-10, 1.2625e-03, 4.7029e-15],\n",
      "        [2.1459e-06, 3.9139e-12, 8.3014e-12, 1.3127e-17, 7.5580e-04, 1.8710e-03,\n",
      "         4.6345e-08, 7.8841e-13, 9.9737e-01, 4.4537e-14],\n",
      "        [6.3549e-06, 3.9523e-13, 2.8549e-14, 5.4748e-14, 9.9980e-01, 1.7730e-04,\n",
      "         6.7299e-06, 2.5099e-12, 1.4236e-05, 2.9180e-09],\n",
      "        [9.2898e-01, 2.0597e-10, 2.6464e-13, 5.0310e-13, 2.9016e-03, 3.1341e-02,\n",
      "         1.0254e-06, 6.9866e-13, 3.6773e-02, 1.0027e-15],\n",
      "        [2.0929e-09, 1.2723e-14, 9.0654e-20, 6.8599e-17, 1.0701e-03, 2.7070e-08,\n",
      "         5.0133e-10, 1.2136e-14, 9.9893e-01, 2.7926e-13],\n",
      "        [2.7774e-05, 1.3837e-09, 4.3049e-09, 2.8872e-12, 3.9420e-04, 1.2894e-01,\n",
      "         2.0484e-01, 6.8001e-10, 6.6581e-01, 1.3430e-10],\n",
      "        [9.1991e-01, 1.5482e-07, 1.5335e-11, 8.1227e-14, 4.6535e-03, 7.4805e-02,\n",
      "         4.1105e-04, 2.7938e-09, 2.1755e-04, 2.9445e-13],\n",
      "        [3.5703e-06, 2.0330e-12, 1.3211e-15, 2.9765e-14, 6.2709e-02, 2.6918e-02,\n",
      "         6.9365e-11, 6.9837e-14, 9.1037e-01, 1.7138e-14],\n",
      "        [1.4614e-01, 6.4541e-12, 1.2783e-12, 6.1497e-17, 6.9924e-01, 2.4086e-04,\n",
      "         5.1571e-07, 4.0986e-14, 1.5437e-01, 3.9862e-14],\n",
      "        [7.4539e-07, 2.2697e-12, 2.1610e-13, 2.8691e-14, 3.9395e-03, 4.7674e-06,\n",
      "         4.1959e-13, 7.3260e-14, 9.9605e-01, 3.8376e-11],\n",
      "        [9.6739e-01, 7.0528e-14, 3.8941e-15, 9.9293e-14, 1.7156e-02, 1.7796e-07,\n",
      "         2.1521e-04, 3.1579e-14, 1.5241e-02, 5.5914e-11],\n",
      "        [2.2071e-05, 1.1423e-08, 5.1607e-11, 1.8524e-13, 9.1742e-01, 6.9950e-05,\n",
      "         5.7620e-07, 1.2311e-10, 8.2486e-02, 1.0358e-14],\n",
      "        [6.1376e-03, 4.0275e-09, 1.5624e-13, 9.9857e-14, 2.1175e-02, 2.5497e-06,\n",
      "         1.4243e-09, 2.5712e-14, 9.7268e-01, 2.0573e-08],\n",
      "        [2.3919e-03, 2.6166e-11, 4.0481e-13, 1.2053e-16, 4.4846e-02, 1.4585e-01,\n",
      "         3.2316e-10, 4.0150e-08, 8.0691e-01, 3.5719e-14],\n",
      "        [4.9890e-07, 1.0539e-11, 1.0049e-18, 5.6691e-18, 1.1664e-03, 1.7342e-02,\n",
      "         3.9386e-10, 6.8419e-13, 9.8149e-01, 1.0749e-17],\n",
      "        [2.8942e-02, 4.0035e-11, 1.4530e-13, 2.0686e-12, 4.3217e-03, 8.5571e-01,\n",
      "         3.1827e-08, 8.3943e-12, 1.1102e-01, 9.7837e-16],\n",
      "        [2.9440e-07, 9.2264e-14, 2.5676e-16, 4.5998e-15, 2.2296e-05, 4.3120e-07,\n",
      "         4.2542e-06, 6.4157e-15, 9.9997e-01, 1.7475e-10],\n",
      "        [1.3588e-05, 7.0306e-06, 1.1291e-10, 5.8120e-16, 6.9586e-01, 3.9932e-05,\n",
      "         1.9128e-10, 1.7769e-11, 3.0408e-01, 1.7637e-11],\n",
      "        [1.1957e-07, 2.2034e-09, 1.2213e-11, 2.4818e-14, 9.9339e-01, 6.4021e-03,\n",
      "         5.7029e-10, 5.9663e-13, 2.0893e-04, 1.0861e-15],\n",
      "        [7.0591e-13, 5.7137e-18, 9.8909e-17, 8.5595e-15, 5.9157e-07, 2.1360e-08,\n",
      "         3.6568e-16, 7.1108e-15, 1.0000e+00, 1.2711e-15],\n",
      "        [1.8778e-01, 1.3585e-15, 5.1760e-12, 3.1814e-15, 8.0435e-01, 1.1139e-08,\n",
      "         1.7614e-08, 2.8757e-13, 7.8745e-03, 5.3021e-14],\n",
      "        [2.2353e-05, 3.4421e-12, 1.7194e-16, 1.1954e-14, 8.8148e-05, 7.2425e-06,\n",
      "         6.1171e-06, 3.4207e-15, 9.9988e-01, 1.2979e-11],\n",
      "        [3.0505e-01, 5.3071e-14, 2.1262e-16, 7.0466e-17, 1.3846e-05, 8.0072e-10,\n",
      "         9.5508e-07, 1.5332e-14, 6.9493e-01, 2.4433e-12],\n",
      "        [6.3879e-05, 7.6110e-12, 4.0445e-12, 9.5069e-12, 9.3505e-01, 2.2849e-04,\n",
      "         5.2848e-03, 3.8839e-15, 5.9371e-02, 5.6764e-09],\n",
      "        [2.3707e-01, 3.2440e-14, 5.5418e-16, 1.8583e-14, 4.7065e-01, 2.9228e-01,\n",
      "         2.6390e-07, 5.6603e-16, 6.7051e-07, 7.1618e-12],\n",
      "        [4.7559e-01, 1.8219e-12, 8.0257e-16, 2.4315e-13, 3.7218e-01, 1.1292e-03,\n",
      "         3.6804e-06, 1.5722e-09, 1.5110e-01, 4.5140e-10],\n",
      "        [1.4274e-06, 9.0116e-08, 6.8693e-14, 5.5954e-18, 1.8064e-02, 2.5126e-08,\n",
      "         4.7351e-09, 7.9545e-10, 9.8193e-01, 3.9325e-13],\n",
      "        [1.8966e-10, 3.2501e-18, 7.2189e-15, 1.9034e-14, 6.0436e-05, 3.9043e-06,\n",
      "         7.2277e-15, 1.5823e-12, 9.9994e-01, 2.5022e-11],\n",
      "        [4.8868e-16, 3.3234e-21, 6.7698e-24, 4.3445e-19, 8.7614e-08, 1.3171e-14,\n",
      "         7.4502e-16, 1.6956e-18, 1.0000e+00, 4.2049e-20],\n",
      "        [7.6160e-05, 6.6281e-13, 3.5167e-12, 6.4432e-13, 2.0319e-02, 1.9432e-06,\n",
      "         5.0852e-05, 6.9262e-09, 9.7955e-01, 3.5053e-11],\n",
      "        [4.0872e-06, 6.1440e-12, 6.8486e-10, 4.7440e-14, 2.0563e-02, 3.4859e-04,\n",
      "         7.5889e-09, 7.8458e-12, 9.7908e-01, 4.4936e-12],\n",
      "        [9.4769e-01, 8.7471e-08, 1.3567e-12, 4.7165e-16, 1.9797e-02, 5.2677e-04,\n",
      "         5.4809e-08, 1.9199e-13, 3.1986e-02, 2.7067e-08],\n",
      "        [1.5339e-05, 1.7271e-14, 5.9037e-12, 2.1739e-15, 5.4442e-06, 1.8663e-05,\n",
      "         6.5326e-03, 5.5833e-13, 9.9343e-01, 9.2897e-13],\n",
      "        [3.0347e-05, 4.4157e-14, 2.1222e-15, 3.2590e-16, 9.9837e-01, 3.1024e-05,\n",
      "         1.1900e-07, 2.5634e-09, 1.5710e-03, 1.2479e-12],\n",
      "        [7.5334e-10, 4.8818e-11, 3.8332e-14, 1.7107e-16, 2.2192e-03, 9.9778e-01,\n",
      "         5.5539e-09, 9.7579e-14, 1.2617e-06, 6.8442e-15],\n",
      "        [1.3759e-01, 9.2459e-12, 1.7675e-12, 1.4647e-09, 4.3572e-03, 8.5796e-01,\n",
      "         1.4177e-09, 1.9456e-11, 8.6074e-05, 3.2059e-15],\n",
      "        [1.8427e-07, 4.2258e-17, 1.3449e-13, 2.6189e-15, 2.8253e-03, 9.0848e-02,\n",
      "         3.7976e-08, 2.6056e-10, 9.0633e-01, 1.0282e-10],\n",
      "        [1.7507e-08, 9.0965e-14, 1.1495e-14, 6.0001e-18, 8.8622e-01, 5.1679e-07,\n",
      "         6.8915e-10, 2.8285e-15, 1.1378e-01, 5.3627e-14],\n",
      "        [4.5709e-05, 1.8022e-10, 3.1647e-10, 4.9473e-14, 5.4417e-03, 3.8683e-04,\n",
      "         3.8459e-04, 3.2517e-11, 9.9374e-01, 1.0205e-12],\n",
      "        [6.0077e-04, 5.2919e-10, 1.1724e-11, 1.2392e-10, 9.5100e-01, 4.3569e-04,\n",
      "         3.5562e-06, 2.3440e-09, 4.7957e-02, 2.0742e-12],\n",
      "        [7.6856e-02, 8.9894e-11, 1.0420e-10, 2.9406e-12, 1.2788e-01, 4.7308e-03,\n",
      "         6.5565e-03, 3.7220e-12, 7.8398e-01, 2.4241e-12],\n",
      "        [1.2007e-06, 2.8085e-09, 2.3188e-14, 1.1599e-11, 1.2582e-01, 1.5086e-03,\n",
      "         1.0620e-06, 2.5273e-12, 8.7267e-01, 2.0861e-10],\n",
      "        [1.1938e-04, 1.8513e-10, 7.6412e-15, 1.3521e-14, 5.9665e-01, 3.2452e-04,\n",
      "         5.2586e-09, 2.4942e-14, 4.0291e-01, 3.1463e-15],\n",
      "        [2.4569e-05, 1.7354e-11, 3.4989e-15, 3.3649e-19, 5.4378e-07, 5.7497e-07,\n",
      "         6.5535e-13, 8.2231e-13, 9.9997e-01, 3.7142e-13],\n",
      "        [3.1671e-07, 4.8447e-12, 3.4994e-13, 3.2598e-11, 1.5511e-01, 4.1135e-03,\n",
      "         6.1943e-12, 9.8647e-10, 8.4078e-01, 1.0127e-14],\n",
      "        [1.1949e-08, 1.7047e-16, 9.5104e-16, 4.7306e-17, 5.0147e-03, 2.3511e-05,\n",
      "         1.0938e-08, 2.5204e-12, 9.9496e-01, 2.3935e-12],\n",
      "        [2.9430e-02, 5.6796e-12, 9.6566e-17, 3.7067e-18, 1.0445e-01, 1.3177e-06,\n",
      "         6.3920e-11, 6.6978e-13, 8.6612e-01, 3.0771e-16],\n",
      "        [6.2918e-06, 1.2674e-14, 2.8511e-15, 2.0484e-18, 1.0683e-03, 9.5771e-01,\n",
      "         3.2354e-09, 8.3873e-16, 4.1218e-02, 8.9980e-14],\n",
      "        [1.0623e-08, 1.8197e-08, 1.3880e-14, 7.1072e-19, 9.9997e-01, 2.4544e-05,\n",
      "         3.3178e-06, 9.2280e-13, 1.6685e-07, 5.5327e-11],\n",
      "        [6.0350e-03, 1.6181e-12, 2.0532e-10, 2.5065e-13, 6.1247e-01, 1.9432e-03,\n",
      "         7.9970e-05, 4.9177e-10, 3.7947e-01, 2.2984e-09],\n",
      "        [1.9939e-01, 1.8691e-15, 2.4161e-15, 8.4833e-14, 7.9501e-01, 1.0716e-03,\n",
      "         5.7887e-04, 1.1960e-13, 3.9475e-03, 8.6452e-15],\n",
      "        [2.5227e-05, 1.1374e-14, 8.9490e-20, 7.7284e-14, 9.9533e-01, 2.0958e-05,\n",
      "         2.1134e-09, 1.0727e-13, 4.6203e-03, 1.7978e-14],\n",
      "        [8.3568e-08, 4.6992e-16, 6.4160e-15, 1.2227e-16, 1.2669e-05, 1.1636e-05,\n",
      "         8.3139e-13, 2.5723e-12, 9.9998e-01, 1.2929e-16],\n",
      "        [1.5395e-04, 2.8758e-12, 5.7127e-14, 1.1953e-17, 2.8617e-04, 9.3653e-06,\n",
      "         1.7178e-05, 1.7970e-14, 9.9953e-01, 2.7001e-07]])\n",
      "tensor([1.0000, 1.0000, 1.0000, 1.0000, 1.0000, 1.0000, 1.0000, 1.0000, 1.0000,\n",
      "        1.0000, 1.0000, 1.0000, 1.0000, 1.0000, 1.0000, 1.0000, 1.0000, 1.0000,\n",
      "        1.0000, 1.0000, 1.0000, 1.0000, 1.0000, 1.0000, 1.0000, 1.0000, 1.0000,\n",
      "        1.0000, 1.0000, 1.0000, 1.0000, 1.0000, 1.0000, 1.0000, 1.0000, 1.0000,\n",
      "        1.0000, 1.0000, 1.0000, 1.0000, 1.0000, 1.0000, 1.0000, 1.0000, 1.0000,\n",
      "        1.0000, 1.0000, 1.0000, 1.0000, 1.0000, 1.0000, 1.0000, 1.0000, 1.0000,\n",
      "        1.0000, 1.0000, 1.0000, 1.0000, 1.0000, 1.0000, 1.0000, 1.0000, 1.0000,\n",
      "        1.0000])\n"
     ]
    }
   ],
   "source": [
    "def softmax(x):\n",
    "    ## TODO: Implement the softmax function here\n",
    "    return torch.exp(x)/torch.sum(torch.exp(x),dim=1).view(-1,1)\n",
    "\n",
    "# Here, out should be the output of the network in the previous excercise with shape (64,10)\n",
    "probabilities = softmax(out)\n",
    "\n",
    "# Does it have the right shape? Should be (64, 10)\n",
    "print(probabilities.shape)\n",
    "# Does it sum to 1?\n",
    "print(probabilities)\n",
    "print(probabilities.sum(dim=1))"
   ]
  },
  {
   "cell_type": "markdown",
   "metadata": {},
   "source": [
    "## Building networks with PyTorch\n",
    "\n",
    "PyTorch provides a module `nn` that makes building networks much simpler. Here I'll show you how to build the same one as above with 784 inputs, 256 hidden units, 10 output units and a softmax output."
   ]
  },
  {
   "cell_type": "code",
   "execution_count": 24,
   "metadata": {},
   "outputs": [],
   "source": [
    "from torch import nn"
   ]
  },
  {
   "cell_type": "code",
   "execution_count": 25,
   "metadata": {},
   "outputs": [],
   "source": [
    "class Network(nn.Module):\n",
    "    def __init__(self):\n",
    "        super().__init__()\n",
    "        \n",
    "        # Inputs to hidden layer linear transformation\n",
    "        self.hidden = nn.Linear(784, 256)\n",
    "        # Output layer, 10 units - one for each digit\n",
    "        self.output = nn.Linear(256, 10)\n",
    "        \n",
    "        # Define sigmoid activation and softmax output \n",
    "        self.sigmoid = nn.Sigmoid()\n",
    "        self.softmax = nn.Softmax(dim=1)\n",
    "        \n",
    "    def forward(self, x):\n",
    "        # Pass the input tensor through each of our operations\n",
    "        x = self.hidden(x)\n",
    "        x = self.sigmoid(x)\n",
    "        x = self.output(x)\n",
    "        x = self.softmax(x)\n",
    "        \n",
    "        return x"
   ]
  },
  {
   "cell_type": "markdown",
   "metadata": {},
   "source": [
    "Let's go through this bit by bit.\n",
    "\n",
    "```python\n",
    "class Network(nn.Module):\n",
    "```\n",
    "\n",
    "Here we're inheriting from `nn.Module`. Combined with `super().__init__()` this creates a class that tracks the architecture and provides a lot of useful methods and attributes. It is mandatory to inherit from `nn.Module` when you're creating a class for your network. The name of the class itself can be anything.\n",
    "\n",
    "```python\n",
    "self.hidden = nn.Linear(784, 256)\n",
    "```\n",
    "\n",
    "This line creates a module for a linear transformation, $x\\mathbf{W} + b$, with 784 inputs and 256 outputs and assigns it to `self.hidden`. The module automatically creates the weight and bias tensors which we'll use in the `forward` method. You can access the weight and bias tensors once the network (`net`) is created with `net.hidden.weight` and `net.hidden.bias`.\n",
    "\n",
    "```python\n",
    "self.output = nn.Linear(256, 10)\n",
    "```\n",
    "\n",
    "Similarly, this creates another linear transformation with 256 inputs and 10 outputs.\n",
    "\n",
    "```python\n",
    "self.sigmoid = nn.Sigmoid()\n",
    "self.softmax = nn.Softmax(dim=1)\n",
    "```\n",
    "\n",
    "Here I defined operations for the sigmoid activation and softmax output. Setting `dim=1` in `nn.Softmax(dim=1)` calculates softmax across the columns.\n",
    "\n",
    "```python\n",
    "def forward(self, x):\n",
    "```\n",
    "\n",
    "PyTorch networks created with `nn.Module` must have a `forward` method defined. It takes in a tensor `x` and passes it through the operations you defined in the `__init__` method.\n",
    "\n",
    "```python\n",
    "x = self.hidden(x)\n",
    "x = self.sigmoid(x)\n",
    "x = self.output(x)\n",
    "x = self.softmax(x)\n",
    "```\n",
    "\n",
    "Here the input tensor `x` is passed through each operation and reassigned to `x`. We can see that the input tensor goes through the hidden layer, then a sigmoid function, then the output layer, and finally the softmax function. It doesn't matter what you name the variables here, as long as the inputs and outputs of the operations match the network architecture you want to build. The order in which you define things in the `__init__` method doesn't matter, but you'll need to sequence the operations correctly in the `forward` method.\n",
    "\n",
    "Now we can create a `Network` object."
   ]
  },
  {
   "cell_type": "code",
   "execution_count": 26,
   "metadata": {},
   "outputs": [
    {
     "data": {
      "text/plain": [
       "Network(\n",
       "  (hidden): Linear(in_features=784, out_features=256, bias=True)\n",
       "  (output): Linear(in_features=256, out_features=10, bias=True)\n",
       "  (sigmoid): Sigmoid()\n",
       "  (softmax): Softmax(dim=1)\n",
       ")"
      ]
     },
     "execution_count": 26,
     "metadata": {},
     "output_type": "execute_result"
    }
   ],
   "source": [
    "# Create the network and look at it's text representation\n",
    "model = Network()\n",
    "model"
   ]
  },
  {
   "cell_type": "markdown",
   "metadata": {},
   "source": [
    "You can define the network somewhat more concisely and clearly using the `torch.nn.functional` module. This is the most common way you'll see networks defined as many operations are simple element-wise functions. We normally import this module as `F`, `import torch.nn.functional as F`."
   ]
  },
  {
   "cell_type": "code",
   "execution_count": 27,
   "metadata": {},
   "outputs": [],
   "source": [
    "import torch.nn.functional as F\n",
    "\n",
    "class Network(nn.Module):\n",
    "    def __init__(self):\n",
    "        super().__init__()\n",
    "        # Inputs to hidden layer linear transformation\n",
    "        self.hidden = nn.Linear(784, 256)\n",
    "        # Output layer, 10 units - one for each digit\n",
    "        self.output = nn.Linear(256, 10)\n",
    "        \n",
    "    def forward(self, x):\n",
    "        # Hidden layer with sigmoid activation\n",
    "        x = F.sigmoid(self.hidden(x))\n",
    "        # Output layer with softmax activation\n",
    "        x = F.softmax(self.output(x), dim=1)\n",
    "        \n",
    "        return x"
   ]
  },
  {
   "cell_type": "markdown",
   "metadata": {},
   "source": [
    "### Activation functions\n",
    "\n",
    "So far we've only been looking at the sigmoid activation function, but in general any function can be used as an activation function. The only requirement is that for a network to approximate a non-linear function, the activation functions must be non-linear. Here are a few more examples of common activation functions: Tanh (hyperbolic tangent), and ReLU (rectified linear unit).\n",
    "\n",
    "<img src=\"assets/activation.png\" width=700px>\n",
    "\n",
    "In practice, the ReLU function is used almost exclusively as the activation function for hidden layers."
   ]
  },
  {
   "cell_type": "markdown",
   "metadata": {},
   "source": [
    "### Your Turn to Build a Network\n",
    "\n",
    "<img src=\"assets/mlp_mnist.png\" width=600px>\n",
    "\n",
    "> **Exercise:** Create a network with 784 input units, a hidden layer with 128 units and a ReLU activation, then a hidden layer with 64 units and a ReLU activation, and finally an output layer with a softmax activation as shown above. You can use a ReLU activation with the `nn.ReLU` module or `F.relu` function.\n",
    "\n",
    "It's good practice to name your layers by their type of network, for instance 'fc' to represent a fully-connected layer. As you code your solution, use `fc1`, `fc2`, and `fc3` as your layer names."
   ]
  },
  {
   "cell_type": "code",
   "execution_count": 28,
   "metadata": {
    "scrolled": true
   },
   "outputs": [],
   "source": [
    "## Your solution here\n",
    "import torch.nn.functional as F\n",
    "\n",
    "class Network(nn.Module):\n",
    "    def __init__(self):\n",
    "        super().__init__()\n",
    "        # Inputs to hidden layer linear transformation\n",
    "        self.fc1 = nn.Linear(784, 128)\n",
    "        # Output layer, 10 units - one for each digit\n",
    "        self.fc2 = nn.Linear(128, 64)\n",
    "        self.fc3 = nn.Linear(64,10)\n",
    "        \n",
    "    def forward(self, x):\n",
    "        # Hidden layer with sigmoid activation\n",
    "        x = F.relu(self.fc1(x))\n",
    "        # Output layer with softmax activation\n",
    "        x = F.relu(self.fc2(x))\n",
    "        x = F.softmax(self.fc3(x), dim=1)\n",
    "        \n",
    "        return x"
   ]
  },
  {
   "cell_type": "markdown",
   "metadata": {},
   "source": [
    "### Initializing weights and biases\n",
    "\n",
    "The weights and such are automatically initialized for you, but it's possible to customize how they are initialized. The weights and biases are tensors attached to the layer you defined, you can get them with `model.fc1.weight` for instance."
   ]
  },
  {
   "cell_type": "code",
   "execution_count": 29,
   "metadata": {},
   "outputs": [
    {
     "name": "stdout",
     "output_type": "stream",
     "text": [
      "Parameter containing:\n",
      "tensor([[-0.0301, -0.0023,  0.0038,  ...,  0.0051,  0.0189,  0.0029],\n",
      "        [-0.0157,  0.0350,  0.0115,  ..., -0.0142, -0.0350, -0.0048],\n",
      "        [ 0.0214, -0.0033,  0.0244,  ...,  0.0267,  0.0331, -0.0334],\n",
      "        ...,\n",
      "        [ 0.0261,  0.0113, -0.0046,  ...,  0.0141, -0.0315,  0.0306],\n",
      "        [ 0.0102, -0.0265, -0.0076,  ...,  0.0238,  0.0085, -0.0074],\n",
      "        [ 0.0220, -0.0163,  0.0333,  ..., -0.0168,  0.0261,  0.0217]],\n",
      "       requires_grad=True)\n",
      "Parameter containing:\n",
      "tensor([ 0.0021, -0.0267, -0.0168,  0.0209,  0.0278, -0.0235,  0.0086, -0.0249,\n",
      "        -0.0221,  0.0015, -0.0137, -0.0350,  0.0167,  0.0031, -0.0265,  0.0333,\n",
      "        -0.0180,  0.0204, -0.0357, -0.0226, -0.0330,  0.0240,  0.0279, -0.0025,\n",
      "         0.0275, -0.0211,  0.0037,  0.0251, -0.0155,  0.0021,  0.0287, -0.0031,\n",
      "        -0.0053,  0.0027, -0.0144,  0.0292,  0.0314,  0.0111,  0.0129,  0.0122,\n",
      "         0.0197,  0.0209,  0.0055,  0.0149, -0.0334, -0.0208,  0.0145, -0.0120,\n",
      "         0.0180, -0.0079,  0.0271, -0.0260,  0.0162,  0.0205, -0.0277, -0.0130,\n",
      "         0.0296, -0.0201, -0.0171, -0.0335,  0.0279,  0.0039, -0.0073,  0.0318,\n",
      "         0.0247,  0.0182, -0.0167, -0.0106,  0.0181, -0.0008,  0.0097,  0.0333,\n",
      "         0.0096, -0.0231, -0.0057,  0.0011, -0.0043, -0.0086, -0.0234,  0.0313,\n",
      "        -0.0030,  0.0096,  0.0093,  0.0258,  0.0084, -0.0111,  0.0026,  0.0018,\n",
      "        -0.0034, -0.0226,  0.0146,  0.0080,  0.0057,  0.0062,  0.0103,  0.0123,\n",
      "        -0.0318, -0.0258, -0.0338, -0.0124,  0.0003,  0.0328,  0.0195, -0.0174,\n",
      "         0.0142,  0.0067,  0.0032,  0.0222,  0.0216, -0.0170,  0.0179,  0.0145,\n",
      "        -0.0190,  0.0295,  0.0199,  0.0004, -0.0183, -0.0253, -0.0297,  0.0072,\n",
      "        -0.0151,  0.0286, -0.0284,  0.0026, -0.0050, -0.0010, -0.0333,  0.0282],\n",
      "       requires_grad=True)\n"
     ]
    }
   ],
   "source": [
    "model = Network()\n",
    "print(model.fc1.weight)\n",
    "print(model.fc1.bias)"
   ]
  },
  {
   "cell_type": "markdown",
   "metadata": {},
   "source": [
    "For custom initialization, we want to modify these tensors in place. These are actually autograd *Variables*, so we need to get back the actual tensors with `model.fc1.weight.data`. Once we have the tensors, we can fill them with zeros (for biases) or random normal values."
   ]
  },
  {
   "cell_type": "code",
   "execution_count": 30,
   "metadata": {},
   "outputs": [
    {
     "data": {
      "text/plain": [
       "tensor([0., 0., 0., 0., 0., 0., 0., 0., 0., 0., 0., 0., 0., 0., 0., 0., 0., 0., 0., 0., 0., 0., 0., 0.,\n",
       "        0., 0., 0., 0., 0., 0., 0., 0., 0., 0., 0., 0., 0., 0., 0., 0., 0., 0., 0., 0., 0., 0., 0., 0.,\n",
       "        0., 0., 0., 0., 0., 0., 0., 0., 0., 0., 0., 0., 0., 0., 0., 0., 0., 0., 0., 0., 0., 0., 0., 0.,\n",
       "        0., 0., 0., 0., 0., 0., 0., 0., 0., 0., 0., 0., 0., 0., 0., 0., 0., 0., 0., 0., 0., 0., 0., 0.,\n",
       "        0., 0., 0., 0., 0., 0., 0., 0., 0., 0., 0., 0., 0., 0., 0., 0., 0., 0., 0., 0., 0., 0., 0., 0.,\n",
       "        0., 0., 0., 0., 0., 0., 0., 0.])"
      ]
     },
     "execution_count": 30,
     "metadata": {},
     "output_type": "execute_result"
    }
   ],
   "source": [
    "# Set biases to all zeros\n",
    "model.fc1.bias.data.fill_(0)"
   ]
  },
  {
   "cell_type": "code",
   "execution_count": 31,
   "metadata": {},
   "outputs": [
    {
     "data": {
      "text/plain": [
       "tensor([[-0.0015, -0.0234, -0.0226,  ..., -0.0083,  0.0010, -0.0011],\n",
       "        [-0.0052,  0.0021,  0.0027,  ...,  0.0021,  0.0120,  0.0032],\n",
       "        [ 0.0026,  0.0083, -0.0092,  ...,  0.0134, -0.0032, -0.0034],\n",
       "        ...,\n",
       "        [-0.0308, -0.0066, -0.0051,  ...,  0.0012,  0.0283, -0.0079],\n",
       "        [-0.0026, -0.0191,  0.0088,  ..., -0.0011,  0.0103,  0.0087],\n",
       "        [-0.0046, -0.0289,  0.0166,  ..., -0.0064, -0.0055,  0.0057]])"
      ]
     },
     "execution_count": 31,
     "metadata": {},
     "output_type": "execute_result"
    }
   ],
   "source": [
    "# sample from random normal with standard dev = 0.01\n",
    "model.fc1.weight.data.normal_(std=0.01)"
   ]
  },
  {
   "cell_type": "markdown",
   "metadata": {},
   "source": [
    "### Forward pass\n",
    "\n",
    "Now that we have a network, let's see what happens when we pass in an image."
   ]
  },
  {
   "cell_type": "code",
   "execution_count": 32,
   "metadata": {},
   "outputs": [
    {
     "data": {
      "image/png": "[encoded data removed]",
      "text/plain": [
       "<Figure size 432x648 with 2 Axes>"
      ]
     },
     "metadata": {
      "image/png": {
       "height": 224,
       "width": 423
      },
      "needs_background": "light"
     },
     "output_type": "display_data"
    }
   ],
   "source": [
    "# Grab some data \n",
    "dataiter = iter(trainloader)\n",
    "images, labels = dataiter.next()\n",
    "\n",
    "# Resize images into a 1D vector, new shape is (batch size, color channels, image pixels) \n",
    "images.resize_(64, 1, 784)\n",
    "# or images.resize_(images.shape[0], 1, 784) to automatically get batch size\n",
    "\n",
    "# Forward pass through the network\n",
    "img_idx = 0\n",
    "ps = model.forward(images[img_idx,:])\n",
    "\n",
    "img = images[img_idx]\n",
    "helper.view_classify(img.view(1, 28, 28), ps)"
   ]
  },
  {
   "cell_type": "markdown",
   "metadata": {},
   "source": [
    "As you can see above, our network has basically no idea what this digit is. It's because we haven't trained it yet, all the weights are random!\n",
    "\n",
    "### Using `nn.Sequential`\n",
    "\n",
    "PyTorch provides a convenient way to build networks like this where a tensor is passed sequentially through operations, `nn.Sequential` ([documentation](https://pytorch.org/docs/master/nn.html#torch.nn.Sequential)). Using this to build the equivalent network:"
   ]
  },
  {
   "cell_type": "code",
   "execution_count": 33,
   "metadata": {},
   "outputs": [
    {
     "name": "stdout",
     "output_type": "stream",
     "text": [
      "Sequential(\n",
      "  (0): Linear(in_features=784, out_features=128, bias=True)\n",
      "  (1): ReLU()\n",
      "  (2): Linear(in_features=128, out_features=64, bias=True)\n",
      "  (3): ReLU()\n",
      "  (4): Linear(in_features=64, out_features=10, bias=True)\n",
      "  (5): Softmax(dim=1)\n",
      ")\n"
     ]
    },
    {
     "data": {
      "image/png": "[encoded data removed]",
      "text/plain": [
       "<Figure size 432x648 with 2 Axes>"
      ]
     },
     "metadata": {
      "image/png": {
       "height": 224,
       "width": 423
      },
      "needs_background": "light"
     },
     "output_type": "display_data"
    }
   ],
   "source": [
    "# Hyperparameters for our network\n",
    "input_size = 784\n",
    "hidden_sizes = [128, 64]\n",
    "output_size = 10\n",
    "\n",
    "# Build a feed-forward network\n",
    "model = nn.Sequential(nn.Linear(input_size, hidden_sizes[0]),\n",
    "                      nn.ReLU(),\n",
    "                      nn.Linear(hidden_sizes[0], hidden_sizes[1]),\n",
    "                      nn.ReLU(),\n",
    "                      nn.Linear(hidden_sizes[1], output_size),\n",
    "                      nn.Softmax(dim=1))\n",
    "print(model)\n",
    "\n",
    "# Forward pass through the network and display output\n",
    "images, labels = next(iter(trainloader))\n",
    "images.resize_(images.shape[0], 1, 784)\n",
    "ps = model.forward(images[0,:])\n",
    "helper.view_classify(images[0].view(1, 28, 28), ps)"
   ]
  },
  {
   "cell_type": "markdown",
   "metadata": {},
   "source": [
    "Here our model is the same as before: 784 input units, a hidden layer with 128 units, ReLU activation, 64 unit hidden layer, another ReLU, then the output layer with 10 units, and the softmax output.\n",
    "\n",
    "The operations are available by passing in the appropriate index. For example, if you want to get first Linear operation and look at the weights, you'd use `model[0]`."
   ]
  },
  {
   "cell_type": "code",
   "execution_count": 34,
   "metadata": {},
   "outputs": [
    {
     "name": "stdout",
     "output_type": "stream",
     "text": [
      "Linear(in_features=784, out_features=128, bias=True)\n"
     ]
    },
    {
     "data": {
      "text/plain": [
       "Parameter containing:\n",
       "tensor([[ 0.0081,  0.0238,  0.0291,  ..., -0.0304, -0.0139, -0.0183],\n",
       "        [ 0.0025,  0.0197,  0.0149,  ..., -0.0137, -0.0137,  0.0003],\n",
       "        [-0.0065,  0.0090, -0.0205,  ..., -0.0254,  0.0169,  0.0115],\n",
       "        ...,\n",
       "        [ 0.0246, -0.0160,  0.0161,  ..., -0.0259,  0.0145,  0.0055],\n",
       "        [-0.0334, -0.0219,  0.0299,  ..., -0.0276,  0.0144,  0.0304],\n",
       "        [-0.0248, -0.0141,  0.0089,  ...,  0.0063, -0.0224,  0.0170]],\n",
       "       requires_grad=True)"
      ]
     },
     "execution_count": 34,
     "metadata": {},
     "output_type": "execute_result"
    }
   ],
   "source": [
    "print(model[0])\n",
    "model[0].weight"
   ]
  },
  {
   "cell_type": "markdown",
   "metadata": {},
   "source": [
    "You can also pass in an `OrderedDict` to name the individual layers and operations, instead of using incremental integers. Note that dictionary keys must be unique, so _each operation must have a different name_."
   ]
  },
  {
   "cell_type": "code",
   "execution_count": 35,
   "metadata": {},
   "outputs": [
    {
     "data": {
      "text/plain": [
       "Sequential(\n",
       "  (fc1): Linear(in_features=784, out_features=128, bias=True)\n",
       "  (relu1): ReLU()\n",
       "  (fc2): Linear(in_features=128, out_features=64, bias=True)\n",
       "  (relu2): ReLU()\n",
       "  (output): Linear(in_features=64, out_features=10, bias=True)\n",
       "  (softmax): Softmax(dim=1)\n",
       ")"
      ]
     },
     "execution_count": 35,
     "metadata": {},
     "output_type": "execute_result"
    }
   ],
   "source": [
    "from collections import OrderedDict\n",
    "model = nn.Sequential(OrderedDict([\n",
    "                      ('fc1', nn.Linear(input_size, hidden_sizes[0])),\n",
    "                      ('relu1', nn.ReLU()),\n",
    "                      ('fc2', nn.Linear(hidden_sizes[0], hidden_sizes[1])),\n",
    "                      ('relu2', nn.ReLU()),\n",
    "                      ('output', nn.Linear(hidden_sizes[1], output_size)),\n",
    "                      ('softmax', nn.Softmax(dim=1))]))\n",
    "model"
   ]
  },
  {
   "cell_type": "markdown",
   "metadata": {},
   "source": [
    "Now you can access layers either by integer or the name"
   ]
  },
  {
   "cell_type": "code",
   "execution_count": 36,
   "metadata": {},
   "outputs": [
    {
     "name": "stdout",
     "output_type": "stream",
     "text": [
      "Linear(in_features=784, out_features=128, bias=True)\n",
      "Linear(in_features=784, out_features=128, bias=True)\n"
     ]
    }
   ],
   "source": [
    "print(model[0])\n",
    "print(model.fc1)"
   ]
  },
  {
   "cell_type": "markdown",
   "metadata": {},
   "source": [
    "In the next notebook, we'll see how we can train a neural network to accuractly predict the numbers appearing in the MNIST images."
   ]
  },
  {
   "cell_type": "code",
   "execution_count": null,
   "metadata": {},
   "outputs": [],
   "source": []
  }
 ],
 "metadata": {
  "kernelspec": {
   "display_name": "Python 3",
   "language": "python",
   "name": "python3"
  },
  "language_info": {
   "codemirror_mode": {
    "name": "ipython",
    "version": 3
   },
   "file_extension": ".py",
   "mimetype": "text/x-python",
   "name": "python",
   "nbconvert_exporter": "python",
   "pygments_lexer": "ipython3",
   "version": "3.7.4"
  }
 },
 "nbformat": 4,
 "nbformat_minor": 2
}
